{
 "cells": [
  {
   "cell_type": "markdown",
   "id": "9fbd531b",
   "metadata": {},
   "source": [
    "# Alguns recados\n",
    "- Horários (início e intervalo)\n",
    "- Presença\n",
    "- Câmera\n",
    "- Cronograma de aulas"
   ]
  },
  {
   "cell_type": "markdown",
   "id": "700cf6df",
   "metadata": {},
   "source": [
    "# IDE\n",
    "- Visual Studio Code - Extensão Jupyter\n",
    "- Colab google - https://colab.research.google.com/\n",
    "- Deep note - https://deepnote.com/\n",
    "- JupyterLite - https://jupyter.org/try\n",
    "- Kaggle Kernels - https://www.kaggle.com/\n",
    "\n",
    "- Diversas opções:\n",
    "  - https://cocalc.com/features/jupyter-notebook\n",
    "  - https://www.codingrooms.com/compiler/jupyter-notebook\n",
    "  - https://mybinder.org/"
   ]
  },
  {
   "cell_type": "markdown",
   "id": "46cc1557",
   "metadata": {},
   "source": [
    "## Tópicos da aula\n",
    "\n",
    " - Variáveis\n",
    " - Tipos básicos\n",
    " - Entradas/Saídas\n",
    " - Operadores Algébricos\n",
    " - Operadores de comparação"
   ]
  },
  {
   "cell_type": "markdown",
   "id": "73c6063a",
   "metadata": {},
   "source": [
    "## Variáveis\n",
    "Variável é o nome dado ao tipo de conteúdo que pode apresentar diferentes valores enquanto o sistema está em execução. Tudo dependerá do comando do usuário e o tipo de operação que é realizado.  \n",
    "Imagine que você conhece uma nova pessoa. A variável seria o lugar no seu cérebro no qual você guarda, por exemplo, o nome desta pessoa, ou seja, é alocado um espaço para armazenar esta informação e posteriormente é passado o valor referente aquele dado.\n",
    "\n",
    "```\n",
    "nome = \"Lucas\"\n",
    "```"
   ]
  },
  {
   "cell_type": "markdown",
   "id": "41b0fe06",
   "metadata": {},
   "source": [
    "## Tipos básicos\n",
    "\n",
    "Podemos ter informações relacionadas às outras pessoas como nome, idade e salário. Cada uma delas possui o que chamamos de tipos de variável. Os tipos de dados são os seguintes:"
   ]
  },
  {
   "cell_type": "code",
   "execution_count": null,
   "id": "605e9581",
   "metadata": {},
   "outputs": [],
   "source": []
  },
  {
   "cell_type": "markdown",
   "id": "a1fcbea2",
   "metadata": {},
   "source": [
    "## Entradas\n",
    "\n",
    "Para solicitarmos entradas de informações a serem fornecidas pelo usuário podemos utilizar a função input. Com ela você poderá (opcional) passar uma mensagem instrutiva ao usuário do que deseja que ele insira.  \n",
    "No exemplo abaixo utilizaremos o input."
   ]
  },
  {
   "cell_type": "code",
   "execution_count": null,
   "id": "41987074",
   "metadata": {
    "ExecuteTime": {
     "end_time": "2023-06-26T13:49:32.009412Z",
     "start_time": "2023-06-26T13:49:26.536287Z"
    }
   },
   "outputs": [],
   "source": []
  },
  {
   "cell_type": "code",
   "execution_count": null,
   "id": "c83c5dab",
   "metadata": {
    "ExecuteTime": {
     "end_time": "2023-06-26T13:49:37.655086Z",
     "start_time": "2023-06-26T13:49:37.640080Z"
    }
   },
   "outputs": [],
   "source": []
  },
  {
   "cell_type": "markdown",
   "id": "a8304431",
   "metadata": {},
   "source": [
    "**Convertendo o tipo de dado**  \n",
    "Neste caso é interessante que a idade seja um número, visto que em geral o utilizamos para realizar contas, por exemplo. Para converter este valor para um inteiro, podemos fazer da seguinte forma:"
   ]
  },
  {
   "cell_type": "code",
   "execution_count": null,
   "id": "f34c305d",
   "metadata": {
    "ExecuteTime": {
     "end_time": "2023-06-26T13:49:37.670876Z",
     "start_time": "2023-06-26T13:49:37.657010Z"
    }
   },
   "outputs": [],
   "source": []
  },
  {
   "cell_type": "markdown",
   "id": "90d69dd0",
   "metadata": {},
   "source": [
    "## Saídas\n",
    "\n",
    "Em diversas situações desejamos imprimir na tela o resultado de alguma operação que realizamos ou simplesmente emitirmos uma mensagem, para estas situações utilizamos o print."
   ]
  },
  {
   "cell_type": "code",
   "execution_count": null,
   "id": "698d7080",
   "metadata": {
    "ExecuteTime": {
     "end_time": "2023-06-26T13:49:59.604707Z",
     "start_time": "2023-06-26T13:49:59.588756Z"
    }
   },
   "outputs": [],
   "source": [
    "print()"
   ]
  },
  {
   "cell_type": "markdown",
   "id": "1ef1a7de",
   "metadata": {},
   "source": [
    "**Mais de um argumento**  \n",
    "Para imprimir mais de uma informação, o print permite inserir quantos argumentos forem necessários, desde que separados por vírgula. Veja o exemplo:"
   ]
  },
  {
   "cell_type": "code",
   "execution_count": null,
   "id": "6db69189",
   "metadata": {
    "ExecuteTime": {
     "end_time": "2023-06-26T13:49:59.690046Z",
     "start_time": "2023-06-26T13:49:59.674361Z"
    }
   },
   "outputs": [],
   "source": []
  },
  {
   "cell_type": "markdown",
   "id": "1571b13e",
   "metadata": {},
   "source": [
    "**Print de variáveis**  \n",
    "Também é possível imprimir variáveis de forma simples, basta passar o nome dado para a variável dentro dos parênteses."
   ]
  },
  {
   "cell_type": "code",
   "execution_count": null,
   "id": "d1de04d2",
   "metadata": {
    "ExecuteTime": {
     "end_time": "2023-06-26T13:49:59.706050Z",
     "start_time": "2023-06-26T13:49:59.692019Z"
    }
   },
   "outputs": [],
   "source": []
  },
  {
   "cell_type": "markdown",
   "id": "5101f9cb",
   "metadata": {},
   "source": [
    "**Print com f string**  \n",
    "Outra forma de utilizarmos o print com variáveis é por meio do que chamamos de f string."
   ]
  },
  {
   "cell_type": "code",
   "execution_count": null,
   "id": "948c0517",
   "metadata": {
    "ExecuteTime": {
     "end_time": "2023-06-26T13:49:59.769479Z",
     "start_time": "2023-06-26T13:49:59.754469Z"
    }
   },
   "outputs": [],
   "source": []
  },
  {
   "cell_type": "markdown",
   "id": "e8129595",
   "metadata": {},
   "source": [
    "**Métodos de string**\n",
    "\n",
    "[Referência](https://www.w3schools.com/python/python_ref_string.asp)"
   ]
  },
  {
   "cell_type": "code",
   "execution_count": null,
   "id": "03eabf3a",
   "metadata": {},
   "outputs": [],
   "source": []
  },
  {
   "cell_type": "markdown",
   "id": "b86dca2d",
   "metadata": {},
   "source": [
    "**Bora praticar!**  \n",
    "Escreva um programa que receba seu nome, sua idade e hobby e escreva uma única sentença que seja, por exemplo, \"Meu nome é Henrique, tenho 22 anos e meu hobby é viajar\" "
   ]
  },
  {
   "cell_type": "code",
   "execution_count": null,
   "id": "7738fc9c",
   "metadata": {
    "ExecuteTime": {
     "end_time": "2023-06-26T13:50:22.727464Z",
     "start_time": "2023-06-26T13:50:13.023526Z"
    }
   },
   "outputs": [],
   "source": [
    "nome = \"levy\"\n",
    "idade = 24\n",
    "hobby = \"ler\"\n",
    "\n",
    "print(f\"Meu nome é {nome}, tenho {idade}  anos e gosto de {hobby}.\")"
   ]
  },
  {
   "cell_type": "markdown",
   "id": "feea987d",
   "metadata": {},
   "source": [
    "## Operadores Algébricos\n",
    "\n",
    "Rotineiramente nos deparamos com a necessidade de realizarmos cálculos, para isso podemos utilizar os operadores algébricos como conhecemos na matemática tradicional."
   ]
  },
  {
   "cell_type": "code",
   "execution_count": null,
   "id": "5a525336",
   "metadata": {
    "ExecuteTime": {
     "end_time": "2023-06-26T13:50:22.768340Z",
     "start_time": "2023-06-26T13:50:22.753018Z"
    }
   },
   "outputs": [],
   "source": []
  },
  {
   "cell_type": "markdown",
   "id": "763aabb9",
   "metadata": {},
   "source": [
    "Resumindo:"
   ]
  },
  {
   "cell_type": "markdown",
   "id": "3742cf67",
   "metadata": {},
   "source": [
    "**Operadores Aritméticos**\n",
    "\n",
    "|     Operador    |     Nome                 |     Função                                                                       |\n",
    "|-----------------|--------------------------|----------------------------------------------------------------------------------|\n",
    "|     +           |     Adição               |     Realiza   a soma de ambos operandos.                                         |\n",
    "|     -           |     Subtração            |     Realiza   a subtração de ambos operandos.                                    |\n",
    "|     *           |     Multiplicação        |     Realiza   a multiplicação de ambos operandos.                                |\n",
    "|     /           |     Divisão              |     Realiza   a Divisão de ambos operandos.                                      |\n",
    "|     //          |     Divisão   inteira    |     Realiza   a divisão entre operandos e a parte decimal de ambos operandos.    |\n",
    "|     %           |     Módulo               |     Retorna   o resto da divisão de ambos operandos.                             |\n",
    "|     **          |     Exponenciação        |     Retorna   o resultado da elevação da potência pelo outro.                    |"
   ]
  },
  {
   "cell_type": "code",
   "execution_count": null,
   "id": "578aa220",
   "metadata": {
    "ExecuteTime": {
     "end_time": "2023-06-26T13:50:22.792853Z",
     "start_time": "2023-06-26T13:50:22.776932Z"
    }
   },
   "outputs": [],
   "source": []
  },
  {
   "cell_type": "markdown",
   "id": "a0f058e7",
   "metadata": {},
   "source": [
    "**Utilizando variáveis**"
   ]
  },
  {
   "cell_type": "code",
   "execution_count": null,
   "id": "d9afbe5f",
   "metadata": {
    "ExecuteTime": {
     "end_time": "2023-06-26T13:50:22.808582Z",
     "start_time": "2023-06-26T13:50:22.793053Z"
    }
   },
   "outputs": [],
   "source": []
  },
  {
   "cell_type": "markdown",
   "id": "9b3a9de5",
   "metadata": {},
   "source": [
    "**Operadores de atribuição**\n",
    "\n",
    "|     Operador    |     Equivalente a    |\n",
    "|:---------------:|----------------------|\n",
    "|         =       |     x =   1          |\n",
    "|        +=       |     x =   x + 1      |\n",
    "|        -=       |     x =   x - 1      |\n",
    "|        *=       |     x =   x * 1      |\n",
    "|        /=       |     x =   x / 1      |\n",
    "|        %=       |     x =   x % 1      |"
   ]
  },
  {
   "cell_type": "code",
   "execution_count": null,
   "id": "01faa99b",
   "metadata": {},
   "outputs": [],
   "source": []
  },
  {
   "cell_type": "markdown",
   "id": "22af0c46",
   "metadata": {},
   "source": [
    "**Bora praticar!**  \n",
    "Com tudo que vimos até o momento faça um programa que solicite ao usuário que insira seu ano de nascimento. Desconsiderando o mês do ano de nascimento, emita uma mensagem dizendo quantos anos ele possui."
   ]
  },
  {
   "cell_type": "code",
   "execution_count": 2,
   "id": "d8165666",
   "metadata": {
    "ExecuteTime": {
     "end_time": "2023-06-26T13:50:26.211610Z",
     "start_time": "2023-06-26T13:50:22.810594Z"
    }
   },
   "outputs": [
    {
     "name": "stdout",
     "output_type": "stream",
     "text": [
      "Idade: 24 anos.\n"
     ]
    }
   ],
   "source": [
    "ano_nascimento = input(\"Ano: \")\n",
    "\n",
    "print(f\"Idade: {2023 - int(ano_nascimento)} anos.\")"
   ]
  },
  {
   "cell_type": "markdown",
   "id": "cceecb74",
   "metadata": {},
   "source": [
    "## Operadores de Comparação  \n",
    "Os operadores de comparação são aqueles que possuem o objetivo de analisar os valores de uma expressão e retornar um valor booleano, ou seja, verdadeiro (1) ou falso (0)."
   ]
  },
  {
   "cell_type": "code",
   "execution_count": null,
   "id": "1f30bb6e",
   "metadata": {
    "ExecuteTime": {
     "end_time": "2023-06-26T13:50:31.639034Z",
     "start_time": "2023-06-26T13:50:31.624066Z"
    }
   },
   "outputs": [],
   "source": []
  },
  {
   "cell_type": "markdown",
   "id": "7035e16d",
   "metadata": {},
   "source": [
    "**Bora praticar!**  \n",
    "Imagine que você está implementando um sistema para verificar se os alunos de uma turma estudantil passaram na disciplina ou não. Para isso solicite que o usuário insira as notas das 4 provas realizadas por um estudante e calcule a média. Após isso, emita uma resposta booleana (True ou False) se o estudante passou na disciplina pensando que a média mínima para aprovação é que seja pelo menos 5."
   ]
  },
  {
   "cell_type": "code",
   "execution_count": 9,
   "id": "52d8a4e8",
   "metadata": {
    "scrolled": true
   },
   "outputs": [
    {
     "name": "stdout",
     "output_type": "stream",
     "text": [
      "False\n"
     ]
    }
   ],
   "source": [
    "nota1 = float(input(\"Nota 1: \"))\n",
    "nota2 = float(input(\"Nota 2: \"))\n",
    "nota3 = float(input(\"Nota 3: \"))\n",
    "nota4 = float(input(\"Nota 4: \"))\n",
    "\n",
    "\n",
    "media = (nota1 + nota2 + nota3 + nota4) / 4\n",
    "\n",
    "print(media >= 5)"
   ]
  },
  {
   "cell_type": "markdown",
   "id": "87f38384",
   "metadata": {},
   "source": [
    "Crie um algoritmo que calcule o IMC (índice de massa corporal). O IMC é calculado com a formula PESO/(ALTURA ^ 2). Para isso, coloque as informações nas variáveis e ao final apresente o resultado como no exemplo: \"O IMC é 18\""
   ]
  },
  {
   "cell_type": "code",
   "execution_count": 7,
   "id": "f82ed11d",
   "metadata": {},
   "outputs": [
    {
     "name": "stdout",
     "output_type": "stream",
     "text": [
      "O IMC é 0.022592152199762187\n"
     ]
    }
   ],
   "source": [
    "peso = float(input(\"Peso: \"))\n",
    "altura = float(input(\"Altura: \"))\n",
    "\n",
    "imc = peso / (altura**2)\n",
    "\n",
    "print(f\"O IMC é {imc}\")"
   ]
  },
  {
   "cell_type": "markdown",
   "id": "6c0555dc",
   "metadata": {},
   "source": [
    "Escreva um algoritmo que calcule (x + y) * (x + y). Os valores de x e y devem ser inseridos pelo usuário"
   ]
  },
  {
   "cell_type": "code",
   "execution_count": 8,
   "id": "ce94fc00",
   "metadata": {},
   "outputs": [
    {
     "name": "stdout",
     "output_type": "stream",
     "text": [
      "9.0\n"
     ]
    }
   ],
   "source": [
    "x = float(input(\"X: \"))\n",
    "y = float(input(\"Y: \"))\n",
    "\n",
    "print((x + y) * (x + y))"
   ]
  }
 ],
 "metadata": {
  "kernelspec": {
   "display_name": "Python 3 (ipykernel)",
   "language": "python",
   "name": "python3"
  },
  "language_info": {
   "codemirror_mode": {
    "name": "ipython",
    "version": 3
   },
   "file_extension": ".py",
   "mimetype": "text/x-python",
   "name": "python",
   "nbconvert_exporter": "python",
   "pygments_lexer": "ipython3",
   "version": "3.9.18"
  },
  "latex_envs": {
   "LaTeX_envs_menu_present": true,
   "autoclose": false,
   "autocomplete": true,
   "bibliofile": "biblio.bib",
   "cite_by": "apalike",
   "current_citInitial": 1,
   "eqLabelWithNumbers": true,
   "eqNumInitial": 1,
   "hotkeys": {
    "equation": "Ctrl-E",
    "itemize": "Ctrl-I"
   },
   "labels_anchors": false,
   "latex_user_defs": false,
   "report_style_numbering": false,
   "user_envs_cfg": false
  },
  "toc": {
   "base_numbering": 1,
   "nav_menu": {},
   "number_sections": true,
   "sideBar": true,
   "skip_h1_title": false,
   "title_cell": "Table of Contents",
   "title_sidebar": "Contents",
   "toc_cell": false,
   "toc_position": {},
   "toc_section_display": true,
   "toc_window_display": false
  },
  "varInspector": {
   "cols": {
    "lenName": 16,
    "lenType": 16,
    "lenVar": 40
   },
   "kernels_config": {
    "python": {
     "delete_cmd_postfix": "",
     "delete_cmd_prefix": "del ",
     "library": "var_list.py",
     "varRefreshCmd": "print(var_dic_list())"
    },
    "r": {
     "delete_cmd_postfix": ") ",
     "delete_cmd_prefix": "rm(",
     "library": "var_list.r",
     "varRefreshCmd": "cat(var_dic_list()) "
    }
   },
   "types_to_exclude": [
    "module",
    "function",
    "builtin_function_or_method",
    "instance",
    "_Feature"
   ],
   "window_display": false
  },
  "vscode": {
   "interpreter": {
    "hash": "5c66de18c091297d67c9a295278ca9503b5163a383fa85591c3cdb6daec33020"
   }
  }
 },
 "nbformat": 4,
 "nbformat_minor": 5
}
