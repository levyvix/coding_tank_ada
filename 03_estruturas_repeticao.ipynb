{
 "cells": [
  {
   "cell_type": "markdown",
   "metadata": {},
   "source": [
    "# Lógica de Programação I - Estruturas de Repetição"
   ]
  },
  {
   "cell_type": "markdown",
   "metadata": {},
   "source": [
    "## Tópicos da aula\n",
    "\n",
    "- Estruturas de repetição\n",
    "- Looping while"
   ]
  },
  {
   "cell_type": "markdown",
   "metadata": {},
   "source": [
    "Na aula passada fizemos o programa que a pessoa digitava 2 numeros e a gente dizia o maior e se quisermos 3? E se quisermos 10? E se quisermos 100? Conseguimos fazer?"
   ]
  },
  {
   "cell_type": "markdown",
   "metadata": {},
   "source": [
    "### Recapitulando\n",
    "\n",
    "Quando queremos alterar o fluxo de execução do programa podemos utilizar o comando if junto com uma expressão lógica."
   ]
  },
  {
   "cell_type": "code",
   "execution_count": null,
   "metadata": {},
   "outputs": [],
   "source": []
  },
  {
   "cell_type": "markdown",
   "metadata": {},
   "source": [
    "### Estruturas de Repetição\n",
    "\n",
    "Um if não garante que eu consigo validar o valor de um campo pois se o usuário não acertar na 2a vez, ele seguirá inválido"
   ]
  },
  {
   "cell_type": "code",
   "execution_count": null,
   "metadata": {},
   "outputs": [],
   "source": []
  },
  {
   "cell_type": "markdown",
   "metadata": {},
   "source": [
    "__Obs.__: SEMPRE que eu trabalho com estrutura de repetição (WHILE - ENQUANTO) é NECESSÁRIO que a condição seja alterada dentro do while, SENAO entro em looping infinito"
   ]
  },
  {
   "cell_type": "code",
   "execution_count": null,
   "metadata": {
    "ExecuteTime": {
     "end_time": "2023-06-28T22:45:14.317035Z",
     "start_time": "2023-06-28T22:45:12.520055Z"
    }
   },
   "outputs": [],
   "source": []
  },
  {
   "cell_type": "markdown",
   "metadata": {},
   "source": [
    "__Exemplo:__ Some todos os números de 0 a um número digitado pelo usuário"
   ]
  },
  {
   "cell_type": "code",
   "execution_count": null,
   "metadata": {},
   "outputs": [],
   "source": []
  },
  {
   "cell_type": "markdown",
   "metadata": {},
   "source": [
    "### Bora praticar!"
   ]
  },
  {
   "cell_type": "markdown",
   "metadata": {},
   "source": [
    "1) Escreva um programa que solicite um número inteiro e imprima na tela todos os números de 1 até o número digitado, separado por espaços.  \n",
    "_Exemplo_  \n",
    "número digitado: 5  \n",
    "resultado esperado: 1 2 3 4 5"
   ]
  },
  {
   "cell_type": "code",
   "execution_count": 1,
   "metadata": {
    "ExecuteTime": {
     "end_time": "2023-06-29T14:06:46.644419Z",
     "start_time": "2023-06-29T14:06:44.963687Z"
    }
   },
   "outputs": [
    {
     "name": "stdout",
     "output_type": "stream",
     "text": [
      "1\n",
      "2\n",
      "3\n"
     ]
    }
   ],
   "source": [
    "numero_inteiro = int(input(\"Digite um número inteiro: \"))\n",
    "\n",
    "for i in range(1, numero_inteiro + 1):\n",
    "    print(i)"
   ]
  },
  {
   "cell_type": "markdown",
   "metadata": {},
   "source": [
    "2) Faça um programa que mostre o fatorial de um número digitado.  \n",
    "_Exemplo_  \n",
    "número digitado: 5  \n",
    "resultado esperado: 120"
   ]
  },
  {
   "cell_type": "code",
   "execution_count": 3,
   "metadata": {
    "ExecuteTime": {
     "end_time": "2023-06-29T14:07:02.010602Z",
     "start_time": "2023-06-29T14:07:01.444374Z"
    }
   },
   "outputs": [
    {
     "name": "stdout",
     "output_type": "stream",
     "text": [
      "120\n"
     ]
    }
   ],
   "source": [
    "fatorial = 1\n",
    "\n",
    "numero_digitado = int(input(\"Digite um número inteiro: \"))\n",
    "\n",
    "for i in range(1, numero_digitado + 1):\n",
    "    fatorial = fatorial * i\n",
    "\n",
    "\n",
    "print(fatorial)"
   ]
  },
  {
   "cell_type": "markdown",
   "metadata": {},
   "source": [
    "3) Faça um programa que imprima a tabuada do 9 na tela (entre 1 e 10). Insira a conta, por exemplo, 9 * 1 = 9, sendo cada um dos valores em uma linha diferente."
   ]
  },
  {
   "cell_type": "code",
   "execution_count": 21,
   "metadata": {
    "ExecuteTime": {
     "end_time": "2023-06-29T14:07:36.887441Z",
     "start_time": "2023-06-29T14:07:32.988688Z"
    }
   },
   "outputs": [
    {
     "name": "stdout",
     "output_type": "stream",
     "text": [
      "9 * 1 = 9\n",
      "9 * 2 = 18\n",
      "9 * 3 = 27\n",
      "9 * 4 = 36\n",
      "9 * 5 = 45\n",
      "9 * 6 = 54\n",
      "9 * 7 = 63\n",
      "9 * 8 = 72\n",
      "9 * 9 = 81\n",
      "9 * 10 = 90\n"
     ]
    }
   ],
   "source": [
    "tabuada = 9\n",
    "\n",
    "for i in range(1, 11):\n",
    "    print(f\"9 * {i} = {tabuada*i}\")"
   ]
  },
  {
   "cell_type": "markdown",
   "metadata": {},
   "source": [
    "4) Faça um programa em que o usuário digite números quaisquer que encerrará no momento em que o valor 0 seja digitado. Ao final diga qual foi o maior número digitado."
   ]
  },
  {
   "cell_type": "code",
   "execution_count": 8,
   "metadata": {
    "ExecuteTime": {
     "end_time": "2023-06-29T00:46:51.915680Z",
     "start_time": "2023-06-29T00:46:42.396970Z"
    }
   },
   "outputs": [
    {
     "name": "stdout",
     "output_type": "stream",
     "text": [
      "voce ditgitou 1\n",
      "voce ditgitou 2\n",
      "voce ditgitou 3\n",
      "voce ditgitou 9\n",
      "voce digitou 0\n"
     ]
    }
   ],
   "source": [
    "numero_digitado = int(input(\"Digite um número inteiro: \"))\n",
    "\n",
    "while numero_digitado != 0:\n",
    "    print(\"voce ditgitou\", numero_digitado)\n",
    "\n",
    "    numero_digitado = int(input(\"Digite um novo número inteiro: \"))\n",
    "\n",
    "\n",
    "print(\"voce digitou 0\")"
   ]
  },
  {
   "cell_type": "markdown",
   "metadata": {},
   "source": [
    "5. Faça um script que peça para o usuário digitar a idade, o salário e o sexo de uma pessoa até que as entradas digitadas sejam válidas.  \n",
    "  \n",
    "a. Idade: entre 0 e 150  \n",
    "b. Salário: maior que 0  \n",
    "c. Gênero: M, F ou Outro  \n",
    "  \n",
    "Por último imprima os dados recebidos do usuário."
   ]
  },
  {
   "cell_type": "code",
   "execution_count": 9,
   "metadata": {
    "ExecuteTime": {
     "end_time": "2023-06-29T14:09:36.391705Z",
     "start_time": "2023-06-29T14:09:29.824717Z"
    }
   },
   "outputs": [
    {
     "name": "stdout",
     "output_type": "stream",
     "text": [
      "Dados recebidos do usuário:\n",
      "Idade: 9, Salário: 1500.0, Gênero: F\n"
     ]
    }
   ],
   "source": [
    "idade = int(input(\"Digite a idade [0 até 150]: \"))\n",
    "\n",
    "while idade not in range(0, 151):\n",
    "    idade = int(input(\"Digite a idade [0 até 150]: \"))\n",
    "\n",
    "salario = float(input(\"Digite o salário [maior que zero]: \"))\n",
    "\n",
    "while salario <= 0:\n",
    "    salario = float(input(\"Digite o salário [maior que zero]: \"))\n",
    "\n",
    "genero = input(\"Digite o gênero [F, M, Outro]: \")\n",
    "\n",
    "while genero not in [\"F\", \"M\", \"Outro\"]:\n",
    "    genero = input(\"Digite o gênero [F, M, Outro]: \")\n",
    "\n",
    "\n",
    "print(\"Dados recebidos do usuário:\")\n",
    "print(f\"Idade: {idade}, Salário: {salario}, Gênero: {genero}\")\n"
   ]
  },
  {
   "cell_type": "markdown",
   "metadata": {},
   "source": [
    "6) Faça uma calculadora. O usuário deve inserir qual a operação matemática ele deseja realizar e logo em seguida os dois números. O programa deve finalizar apenas quando o usuário digitar a opção \"sair\" no momento de escolha da operação matemática."
   ]
  },
  {
   "cell_type": "code",
   "execution_count": 10,
   "metadata": {
    "ExecuteTime": {
     "end_time": "2023-06-29T01:02:38.629837Z",
     "start_time": "2023-06-29T01:02:33.805648Z"
    }
   },
   "outputs": [
    {
     "name": "stdout",
     "output_type": "stream",
     "text": [
      "4.0 + 9.0 = 13.0\n"
     ]
    }
   ],
   "source": [
    "while True:\n",
    "    operacao = input(\"Digite a operação [+, -, *, /, Sair]: \")\n",
    "\n",
    "    if operacao.lower() == \"sair\":\n",
    "        break\n",
    "\n",
    "    numero1 = float(input(\"Digite o primeiro número: \"))\n",
    "    numero2 = float(input(\"Digite o segundo número: \"))\n",
    "\n",
    "    if operacao == \"+\":\n",
    "        print(f\"{numero1} + {numero2} = {numero1 + numero2}\")\n",
    "    elif operacao == \"-\":\n",
    "        print(f\"{numero1} - {numero2} = {numero1 - numero2}\")\n",
    "    elif operacao == \"*\":\n",
    "        print(f\"{numero1} * {numero2} = {numero1 * numero2}\")\n",
    "    elif operacao == \"/\":\n",
    "        print(f\"{numero1} / {numero2} = {numero1 / numero2}\")\n",
    "    else:\n",
    "        print(\"Operação inválida\")\n",
    "\n",
    "\n",
    "print(\"Fim do programa\")\n"
   ]
  },
  {
   "cell_type": "markdown",
   "metadata": {},
   "source": [
    "7. Efetue a soma dos números pares de 1 a 100 (USANDO LOOP WHILE)"
   ]
  },
  {
   "cell_type": "code",
   "execution_count": 17,
   "metadata": {},
   "outputs": [
    {
     "name": "stdout",
     "output_type": "stream",
     "text": [
      "5050\n"
     ]
    }
   ],
   "source": [
    "contador = 0\n",
    "soma = 0\n",
    "while True:\n",
    "    if contador == 101:\n",
    "        break\n",
    "\n",
    "    soma += contador\n",
    "    contador += 1\n",
    "\n",
    "\n",
    "print(soma)\n"
   ]
  },
  {
   "cell_type": "markdown",
   "metadata": {},
   "source": [
    "8. Crie um programa que receba palavras e agregue elas em um texto até que seja escrita a palavra PARE."
   ]
  },
  {
   "cell_type": "code",
   "execution_count": 20,
   "metadata": {},
   "outputs": [
    {
     "name": "stdout",
     "output_type": "stream",
     "text": [
      "oi gente \n"
     ]
    }
   ],
   "source": [
    "frase = \"\"\n",
    "while True:\n",
    "    palavra = input(\"Digite uma palavra: \")\n",
    "\n",
    "    if palavra.lower() == \"pare\":\n",
    "        break\n",
    "\n",
    "    frase += palavra + \" \"\n",
    "\n",
    "print(frase)\n"
   ]
  }
 ],
 "metadata": {
  "kernelspec": {
   "display_name": "Python 3 (ipykernel)",
   "language": "python",
   "name": "python3"
  },
  "language_info": {
   "codemirror_mode": {
    "name": "ipython",
    "version": 3
   },
   "file_extension": ".py",
   "mimetype": "text/x-python",
   "name": "python",
   "nbconvert_exporter": "python",
   "pygments_lexer": "ipython3",
   "version": "3.9.18"
  },
  "latex_envs": {
   "LaTeX_envs_menu_present": true,
   "autoclose": false,
   "autocomplete": true,
   "bibliofile": "biblio.bib",
   "cite_by": "apalike",
   "current_citInitial": 1,
   "eqLabelWithNumbers": true,
   "eqNumInitial": 1,
   "hotkeys": {
    "equation": "Ctrl-E",
    "itemize": "Ctrl-I"
   },
   "labels_anchors": false,
   "latex_user_defs": false,
   "report_style_numbering": false,
   "user_envs_cfg": false
  },
  "toc": {
   "base_numbering": 1,
   "nav_menu": {},
   "number_sections": true,
   "sideBar": true,
   "skip_h1_title": false,
   "title_cell": "Table of Contents",
   "title_sidebar": "Contents",
   "toc_cell": false,
   "toc_position": {},
   "toc_section_display": true,
   "toc_window_display": false
  },
  "varInspector": {
   "cols": {
    "lenName": 16,
    "lenType": 16,
    "lenVar": 40
   },
   "kernels_config": {
    "python": {
     "delete_cmd_postfix": "",
     "delete_cmd_prefix": "del ",
     "library": "var_list.py",
     "varRefreshCmd": "print(var_dic_list())"
    },
    "r": {
     "delete_cmd_postfix": ") ",
     "delete_cmd_prefix": "rm(",
     "library": "var_list.r",
     "varRefreshCmd": "cat(var_dic_list()) "
    }
   },
   "types_to_exclude": [
    "module",
    "function",
    "builtin_function_or_method",
    "instance",
    "_Feature"
   ],
   "window_display": false
  },
  "vscode": {
   "interpreter": {
    "hash": "5c66de18c091297d67c9a295278ca9503b5163a383fa85591c3cdb6daec33020"
   }
  }
 },
 "nbformat": 4,
 "nbformat_minor": 2
}
