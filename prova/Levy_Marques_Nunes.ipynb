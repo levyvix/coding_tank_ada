{
 "cells": [
  {
   "cell_type": "markdown",
   "metadata": {},
   "source": [
    "questao1"
   ]
  },
  {
   "cell_type": "code",
   "execution_count": 1,
   "metadata": {},
   "outputs": [
    {
     "name": "stdout",
     "output_type": "stream",
     "text": [
      "<class 'str'>\n"
     ]
    }
   ],
   "source": [
    "i = input(\"Você sabe o que é uma RENDA FIXA?: \")\n",
    "\n",
    "print(type(i))\n"
   ]
  },
  {
   "cell_type": "markdown",
   "metadata": {},
   "source": [
    "Resposta: b)"
   ]
  },
  {
   "cell_type": "markdown",
   "metadata": {},
   "source": [
    "questao 2"
   ]
  },
  {
   "cell_type": "code",
   "execution_count": 21,
   "metadata": {},
   "outputs": [
    {
     "name": "stdout",
     "output_type": "stream",
     "text": [
      "Juros: 6.0\n",
      "Montante total ao final do período: 16.0\n"
     ]
    }
   ],
   "source": [
    "principal = float(input(\"Capital Inicial: \"))\n",
    "while principal <= 0:\n",
    "    print(\"O valor do capital inicial deve ser maior que zero.\")\n",
    "    principal = float(input(\"Capital Inicial: \"))\n",
    "\n",
    "taxa = float(input(\"Taxa de juros por período (em decimal): \"))\n",
    "while taxa <= 0:\n",
    "    print(\"A taxa de juros deve ser maior que zero.\")\n",
    "    taxa = float(input(\"Taxa de juros por período (em decimal): \"))\n",
    "\n",
    "tempo_meses = int(input(\"Tempo de aplicação (em meses): \"))\n",
    "while tempo_meses <= 0:\n",
    "    print(\"O tempo de aplicação deve ser maior que zero.\")\n",
    "    tempo_meses = int(input(\"Tempo de aplicação (em meses): \"))\n",
    "\n",
    "juros = principal * taxa * tempo_meses\n",
    "montante = principal + juros\n",
    "\n",
    "print(f\"Juros: {juros}\")\n",
    "print(f\"Montante total ao final do período: {montante}\")\n"
   ]
  },
  {
   "cell_type": "markdown",
   "metadata": {},
   "source": [
    "Reposta: E)"
   ]
  },
  {
   "cell_type": "markdown",
   "metadata": {},
   "source": [
    "questao 3"
   ]
  },
  {
   "cell_type": "code",
   "execution_count": 4,
   "metadata": {},
   "outputs": [
    {
     "name": "stdout",
     "output_type": "stream",
     "text": [
      "[['Cliente A', 5], ['Cliente B', 2]]\n"
     ]
    }
   ],
   "source": [
    "clientes_ano = [[\"Cliente A\", 2018], [\"Cliente B\", 2021]]\n",
    "clientes_relacionamento = []\n",
    "\n",
    "for lista in clientes_ano:\n",
    "    clientes_relacionamento.append([lista[0], 2023 - lista[1]])\n",
    "\n",
    "print(clientes_relacionamento)\n"
   ]
  },
  {
   "cell_type": "markdown",
   "metadata": {},
   "source": [
    "\n",
    "Resposta: E)"
   ]
  },
  {
   "cell_type": "markdown",
   "metadata": {},
   "source": [
    "questao 4"
   ]
  },
  {
   "cell_type": "code",
   "execution_count": 6,
   "metadata": {},
   "outputs": [
    {
     "name": "stdout",
     "output_type": "stream",
     "text": [
      "<class 'list'>\n",
      "<class 'list'>\n",
      "<class 'tuple'>\n",
      "<class 'list'>\n",
      "<class 'list'>\n"
     ]
    }
   ],
   "source": [
    "precos_produtos_1 = []\n",
    "precos_produtos_2 = list(\"1 2 3 4\")\n",
    "precos_produtos_3 = (1, 1.5, 3.8)\n",
    "precos_produtos_4 = [1, 2, 3, 4]\n",
    "precos_produtos_5 = list()\n",
    "\n",
    "print(type(precos_produtos_1))\n",
    "print(type(precos_produtos_2))\n",
    "print(type(precos_produtos_3))\n",
    "print(type(precos_produtos_4))\n",
    "print(type(precos_produtos_5))\n"
   ]
  },
  {
   "cell_type": "markdown",
   "metadata": {},
   "source": [
    "reposta: c)"
   ]
  },
  {
   "cell_type": "markdown",
   "metadata": {},
   "source": [
    "questao 5"
   ]
  },
  {
   "cell_type": "code",
   "execution_count": null,
   "metadata": {},
   "outputs": [],
   "source": [
    "num_chamados = 780\n",
    "\n",
    "while num_chamados > 500:\n",
    "    print(f\"ALERTA! HÁ UM TOTAL DE {num_chamados}\")\n",
    "    print(\"Você atendeu um chamado!\")\n",
    "    print(f\"Faltam {num_chamados - 500} para o nível estar dentro do aceitável!\")\n",
    "\n",
    "    num_chamados -= 1\n",
    "\n",
    "print(\"\\nNão estamos mais em estado de alerta!\")\n"
   ]
  },
  {
   "cell_type": "markdown",
   "metadata": {},
   "source": [
    "Resposta: c)"
   ]
  },
  {
   "cell_type": "markdown",
   "metadata": {},
   "source": [
    "questao 6"
   ]
  },
  {
   "cell_type": "code",
   "execution_count": 22,
   "metadata": {},
   "outputs": [
    {
     "name": "stdout",
     "output_type": "stream",
     "text": [
      "\n",
      "A distância entre os dois locais é 3.0 km!\n"
     ]
    }
   ],
   "source": [
    "velocidade = 25  # está em m/s\n",
    "velocidade_convertida = velocidade * 3.6  # está em km/h\n",
    "\n",
    "tempo = float(input(\"Digite o tempo em minutos: \"))\n",
    "while tempo <= 0:\n",
    "    print(\"O tempo deve ser maior que zero.\")\n",
    "    tempo = float(input(\"Digite o tempo em minutos: \"))\n",
    "\n",
    "tempo_em_horas = tempo / 60  # está em horas\n",
    "\n",
    "distancia = tempo_em_horas * velocidade_convertida\n",
    "\n",
    "print(f\"\\nA distância entre os dois locais é {distancia} km!\")\n"
   ]
  },
  {
   "cell_type": "markdown",
   "metadata": {},
   "source": [
    "questao 7"
   ]
  },
  {
   "cell_type": "code",
   "execution_count": 24,
   "metadata": {},
   "outputs": [
    {
     "name": "stdout",
     "output_type": "stream",
     "text": [
      "\n",
      "Todos os números digitados na ordem em que foram inseridos:\n",
      "[10, 10, 30, 9, 99, 3]\n",
      "\n",
      "Todos os números digitados em ordem crescente:\n",
      "[3, 9, 10, 10, 30, 99]\n",
      "\n",
      "A média dos valores digitados é: 26.833333333333332\n",
      "\n",
      "Apenas os números pares:\n",
      "[10, 10, 30]\n",
      "\n",
      "Apenas os números ímpares:\n",
      "[9, 99, 3]\n",
      "\n",
      "Apenas os números repetidos:\n",
      "[10]\n"
     ]
    }
   ],
   "source": [
    "numeros_clientes = []\n",
    "\n",
    "while True:\n",
    "    numero = input(\"Digite o identificador do cliente (número inteiro): \")\n",
    "    while not numero.isdigit():\n",
    "        print(\"Por favor, digite apenas números inteiros.\")\n",
    "        numero = input(\"Digite o identificador do cliente (número inteiro): \")\n",
    "\n",
    "    numeros_clientes.append(int(numero))\n",
    "\n",
    "    continuar = input(\"Deseja inserir outro número? (S/N): \").upper()\n",
    "    while continuar != \"S\" and continuar != \"N\":\n",
    "        print(\"Por favor, responda apenas com S para Sim ou N para Não.\")\n",
    "        continuar = input(\"Deseja inserir outro número? (S/N): \").upper()\n",
    "\n",
    "    if continuar == \"N\":\n",
    "        break\n",
    "\n",
    "print(\"\\nTodos os números digitados na ordem em que foram inseridos:\")\n",
    "print(numeros_clientes)\n",
    "\n",
    "numeros_crescentes = sorted(numeros_clientes)\n",
    "print(\"\\nTodos os números digitados em ordem crescente:\")\n",
    "print(numeros_crescentes)\n",
    "\n",
    "media = sum(numeros_clientes) / len(numeros_clientes)\n",
    "print(f\"\\nA média dos valores digitados é: {media:.2f}\")\n",
    "\n",
    "numeros_pares = [num for num in numeros_clientes if num % 2 == 0]\n",
    "print(\"\\nApenas os números pares:\")\n",
    "print(numeros_pares)\n",
    "\n",
    "numeros_impares = [num for num in numeros_clientes if num % 2 != 0]\n",
    "print(\"\\nApenas os números ímpares:\")\n",
    "print(numeros_impares)\n",
    "\n",
    "numeros_repetidos = list(\n",
    "    set([num for num in numeros_clientes if numeros_clientes.count(num) > 1])\n",
    ")\n",
    "print(\"\\nApenas os números repetidos:\")\n",
    "print(numeros_repetidos)\n"
   ]
  },
  {
   "cell_type": "markdown",
   "metadata": {},
   "source": [
    "questao 8"
   ]
  },
  {
   "cell_type": "code",
   "execution_count": 26,
   "metadata": {},
   "outputs": [
    {
     "name": "stdout",
     "output_type": "stream",
     "text": [
      "10.0°C corresponde a 50.00°F.\n"
     ]
    }
   ],
   "source": [
    "temperatura = float(input(\"Digite a temperatura: \"))\n",
    "\n",
    "escala_original = input(\"Digite a escala da temperatura (C, K ou F): \").upper()\n",
    "while escala_original not in [\"C\", \"K\", \"F\"]:\n",
    "    print(\"Por favor, insira uma escala válida (C, K ou F).\")\n",
    "    escala_original = input(\"Digite a escala da temperatura (C, K ou F): \").upper()\n",
    "\n",
    "escala_convertida = input(\"Digite a escala para converter (C, K ou F): \").upper()\n",
    "while escala_convertida not in [\"C\", \"K\", \"F\"]:\n",
    "    print(\"Por favor, insira uma escala válida (C, K ou F).\")\n",
    "    escala_convertida = input(\"Digite a escala para converter (C, K ou F): \").upper()\n",
    "\n",
    "if escala_original == escala_convertida:\n",
    "    print(\"As escalas de temperatura são as mesmas. Nenhuma conversão necessária.\")\n",
    "else:\n",
    "    if escala_original == \"C\":\n",
    "        if escala_convertida == \"F\":\n",
    "            resultado = (temperatura * 9 / 5) + 32\n",
    "            print(f\"{temperatura}°C corresponde a {resultado:.2f}°F.\")\n",
    "        elif escala_convertida == \"K\":\n",
    "            resultado = temperatura + 273.15\n",
    "            print(f\"{temperatura}°C corresponde a {resultado:.2f}K.\")\n",
    "    elif escala_original == \"K\":\n",
    "        if temperatura < 0:\n",
    "            print(\"Não existem temperaturas em Kelvin abaixo de zero.\")\n",
    "        else:\n",
    "            if escala_convertida == \"C\":\n",
    "                resultado = temperatura - 273.15\n",
    "                print(f\"{temperatura}K corresponde a {resultado:.2f}°C.\")\n",
    "            elif escala_convertida == \"F\":\n",
    "                resultado = (temperatura - 273.15) * 9 / 5 + 32\n",
    "                print(f\"{temperatura}K corresponde a {resultado:.2f}°F.\")\n",
    "    elif escala_original == \"F\":\n",
    "        if escala_convertida == \"C\":\n",
    "            resultado = (temperatura - 32) * 5 / 9\n",
    "            print(f\"{temperatura}°F corresponde a {resultado:.2f}°C.\")\n",
    "        elif escala_convertida == \"K\":\n",
    "            resultado = (temperatura - 32) * 5 / 9 + 273.15\n",
    "            print(f\"{temperatura}°F corresponde a {resultado:.2f}K.\")\n"
   ]
  },
  {
   "cell_type": "markdown",
   "metadata": {},
   "source": [
    "questao 9"
   ]
  },
  {
   "cell_type": "code",
   "execution_count": 15,
   "metadata": {},
   "outputs": [
    {
     "name": "stdout",
     "output_type": "stream",
     "text": [
      "Consórcio - 3\n",
      "Crediário - 2\n",
      "Financiamento - 1\n"
     ]
    }
   ],
   "source": [
    "# Lista de produtos vendidos\n",
    "produtos = [\n",
    "    \"Crediário\",\n",
    "    \"Consórcio\",\n",
    "    \"Consórcio\",\n",
    "    \"Financiamento\",\n",
    "    \"Consórcio\",\n",
    "    \"Crediário\",\n",
    "]\n",
    "\n",
    "# Ordena os produtos em ordem alfabética\n",
    "produtos.sort()\n",
    "\n",
    "# Inicializa variáveis para rastrear o produto atual e sua quantidade\n",
    "produto_atual = produtos[0]\n",
    "quantidade_atual = 1\n",
    "\n",
    "# Loop através dos produtos para contar e exibir as vendas\n",
    "for i in range(1, len(produtos)):\n",
    "    if produtos[i] == produto_atual:\n",
    "        quantidade_atual += 1\n",
    "    else:\n",
    "        print(f\"{produto_atual} - {quantidade_atual}\")\n",
    "        produto_atual = produtos[i]\n",
    "        quantidade_atual = 1\n",
    "\n",
    "# Exibe a quantidade do último produto na lista\n",
    "print(f\"{produto_atual} - {quantidade_atual}\")\n"
   ]
  },
  {
   "cell_type": "markdown",
   "metadata": {},
   "source": [
    "questao 10"
   ]
  },
  {
   "cell_type": "code",
   "execution_count": 17,
   "metadata": {},
   "outputs": [
    {
     "name": "stdout",
     "output_type": "stream",
     "text": [
      "[151.3785714285714, 149.83285714285714, 149.02857142857144, 149.49428571428572, 151.3485714285714, 151.32857142857142, 150.97714285714284, 150.89714285714285, 151.79714285714286, 151.15142857142857, 152.08285714285714, 152.2971428571429, 153.17, 154.94142857142856, 153.66714285714286, 153.98571428571427, 155.8385714285714, 155.1942857142857, 153.73428571428573, 151.70714285714286, 150.37000000000003, 151.23000000000002, 151.75285714285715, 151.94571428571427]\n"
     ]
    }
   ],
   "source": [
    "valores_dos_fechamentos = [\n",
    "    156.89,\n",
    "    155.16,\n",
    "    148.41,\n",
    "    145.18,\n",
    "    150.23,\n",
    "    148.10,\n",
    "    155.68,\n",
    "    146.07,\n",
    "    149.53,\n",
    "    151.67,\n",
    "    158.16,\n",
    "    150.09,\n",
    "    145.64,\n",
    "    155.12,\n",
    "    152.37,\n",
    "    145.01,\n",
    "    158.19,\n",
    "    159.66,\n",
    "    156.20,\n",
    "    158.04,\n",
    "    146.20,\n",
    "    154.60,\n",
    "    157.98,\n",
    "    153.68,\n",
    "    149.44,\n",
    "    142.01,\n",
    "    148.68,\n",
    "    152.22,\n",
    "    158.26,\n",
    "    159.33,\n",
    "]\n",
    "\n",
    "media_movel_7_dias = []\n",
    "\n",
    "for i in range(len(valores_dos_fechamentos) - 6):\n",
    "    soma = 0\n",
    "    for j in range(7):\n",
    "        soma += valores_dos_fechamentos[i + j]\n",
    "    media = soma / 7\n",
    "    media_movel_7_dias.append(media)\n",
    "\n",
    "print(media_movel_7_dias)\n"
   ]
  }
 ],
 "metadata": {
  "kernelspec": {
   "display_name": "linkedin",
   "language": "python",
   "name": "python3"
  },
  "language_info": {
   "codemirror_mode": {
    "name": "ipython",
    "version": 3
   },
   "file_extension": ".py",
   "mimetype": "text/x-python",
   "name": "python",
   "nbconvert_exporter": "python",
   "pygments_lexer": "ipython3",
   "version": "3.9.18"
  }
 },
 "nbformat": 4,
 "nbformat_minor": 2
}
