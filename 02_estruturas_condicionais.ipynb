{
 "cells": [
  {
   "cell_type": "markdown",
   "id": "d021f3ab",
   "metadata": {},
   "source": [
    "# Tópicos da aula \n",
    "\n",
    "- Estrutura condicional e controle de fluxo\n",
    "- Comando if\n",
    "- Comando else\n",
    "- Comando Elif"
   ]
  },
  {
   "cell_type": "markdown",
   "id": "cd0d2122",
   "metadata": {},
   "source": [
    "Imagine que o critério de aprovação em uma escola seja a média superior a 7.0 e presença superior a 75%. Neste caso, o aluno precisa atender a ambos os critérios para ser aprovado. Se ele tirou uma ótima nota, mas faltou demais, será reprovado. Se ele compareceu a todas as aulas, mas teve notas baixas, idem."
   ]
  },
  {
   "cell_type": "code",
   "execution_count": null,
   "id": "457e4bb6",
   "metadata": {
    "ExecuteTime": {
     "end_time": "2023-06-27T22:19:46.818981Z",
     "start_time": "2023-06-27T22:19:42.499776Z"
    }
   },
   "outputs": [],
   "source": []
  },
  {
   "cell_type": "markdown",
   "id": "570c2421",
   "metadata": {},
   "source": [
    "|     Operador    |                            Definição                           |     Operação    |\n",
    "|:---------------:|:--------------------------------------------------------------:|:---------------:|\n",
    "|        and      |     Retorna   True se ambas as afirmações forem verdadeiras    |         e       |\n",
    "|        or       |       Retorna   True se uma das afirmações for verdadeira      |        ou       |\n",
    "|        not      |          retorna   Falso se o resultado for verdadeiro         |        não      |\n",
    "\n",
    "\n",
    "**AND** é uma conjunção lógica e o **OR** é uma disjunção lógica. O **not** é a negação lógica.\n",
    "\n",
    "| *A*   | *B*   | *A and B* | *A or B* | *not A* |\n",
    "|-------|-------|-----------|----------|---------|\n",
    "| False | False | False     | False    | True    |\n",
    "| False | True  | False     | True     | True    |\n",
    "| True  | False | False     | True     | False   |\n",
    "| True  | True  | True      | True     | False   |\n",
    "\n"
   ]
  },
  {
   "cell_type": "code",
   "execution_count": null,
   "id": "42ed97ac",
   "metadata": {
    "ExecuteTime": {
     "end_time": "2023-06-27T22:38:57.598692Z",
     "start_time": "2023-06-27T22:38:57.590160Z"
    }
   },
   "outputs": [],
   "source": []
  },
  {
   "cell_type": "markdown",
   "id": "5e5c4511",
   "metadata": {},
   "source": [
    "Será que conseguimos escrever o problema acima de uma forma mais fácil?"
   ]
  },
  {
   "cell_type": "markdown",
   "id": "0271e87f",
   "metadata": {},
   "source": [
    "## Estrutura condicional"
   ]
  },
  {
   "cell_type": "markdown",
   "id": "2eef494d",
   "metadata": {},
   "source": [
    "- if"
   ]
  },
  {
   "cell_type": "markdown",
   "id": "e50abf84",
   "metadata": {},
   "source": [
    "Obs.: Python é uma linguagem identada"
   ]
  },
  {
   "cell_type": "code",
   "execution_count": null,
   "id": "999d0832",
   "metadata": {
    "ExecuteTime": {
     "end_time": "2023-06-27T22:47:57.433503Z",
     "start_time": "2023-06-27T22:47:53.608113Z"
    }
   },
   "outputs": [],
   "source": []
  },
  {
   "cell_type": "markdown",
   "id": "7c713fe7",
   "metadata": {},
   "source": [
    "## Bora praticar!"
   ]
  },
  {
   "cell_type": "markdown",
   "id": "221bc557",
   "metadata": {},
   "source": [
    "1) Faça um programa que peça a idade do usuário e imprima se ele é maior ou menor de 18 anos."
   ]
  },
  {
   "cell_type": "code",
   "execution_count": null,
   "id": "3ee80027",
   "metadata": {
    "ExecuteTime": {
     "end_time": "2023-06-28T01:13:35.677927Z",
     "start_time": "2023-06-28T01:13:33.710669Z"
    }
   },
   "outputs": [],
   "source": []
  },
  {
   "cell_type": "markdown",
   "id": "20204a13",
   "metadata": {},
   "source": [
    "2) Faça um programa que peça um número e mostre se ele é positivo ou negativo. Alternativa: acrescentar nulo"
   ]
  },
  {
   "cell_type": "code",
   "execution_count": null,
   "id": "e65cca82",
   "metadata": {
    "ExecuteTime": {
     "end_time": "2023-06-28T01:14:45.484713Z",
     "start_time": "2023-06-28T01:14:44.068893Z"
    }
   },
   "outputs": [],
   "source": []
  },
  {
   "cell_type": "markdown",
   "id": "83f073e8",
   "metadata": {},
   "source": [
    "3) Faça um programa que peça dois números e mostre o maior deles.\n",
    "\n",
    "\n",
    "    3.1. Faça um programa que peça três números e mostre o maior deles."
   ]
  },
  {
   "cell_type": "code",
   "execution_count": null,
   "id": "41dbb8f3",
   "metadata": {
    "ExecuteTime": {
     "end_time": "2023-06-28T01:16:42.746565Z",
     "start_time": "2023-06-28T01:16:40.188732Z"
    }
   },
   "outputs": [],
   "source": []
  },
  {
   "cell_type": "markdown",
   "id": "bfdf137f",
   "metadata": {
    "ExecuteTime": {
     "end_time": "2022-10-13T02:14:01.965819Z",
     "start_time": "2022-10-13T02:14:01.958839Z"
    }
   },
   "source": [
    "4) Faça um programa que leia a validade das informações:\n",
    "\n",
    "a. Idade: entre 0 e 150;\n",
    "\n",
    "b. Salário: maior que 0;\n",
    "\n",
    "c. Sexo: M, F ou Outro;\n",
    "\n",
    "O programa deve imprimir uma mensagem de erro para cada informação inválida."
   ]
  },
  {
   "cell_type": "code",
   "execution_count": null,
   "id": "a1a21ec4",
   "metadata": {
    "ExecuteTime": {
     "end_time": "2023-06-28T01:18:25.767941Z",
     "start_time": "2023-06-28T01:18:22.048148Z"
    }
   },
   "outputs": [],
   "source": []
  },
  {
   "cell_type": "markdown",
   "id": "4171857e",
   "metadata": {},
   "source": [
    "5) Escreva um programa que peça a nota de 3 provas de um aluno e verifique se ele passou ou não de ano.\n",
    "Obs.: O aluno irá passar de ano se sua média for maior que 6."
   ]
  },
  {
   "cell_type": "code",
   "execution_count": null,
   "id": "a9246029",
   "metadata": {
    "ExecuteTime": {
     "end_time": "2023-06-28T01:20:15.809663Z",
     "start_time": "2023-06-28T01:20:10.228765Z"
    }
   },
   "outputs": [],
   "source": []
  },
  {
   "cell_type": "markdown",
   "id": "f23c8b47",
   "metadata": {},
   "source": [
    "6) Faça um programa que mostre uma questão de múltipla escolha com 5 opções (letras a, b, c, d, e). \n",
    "Sabendo a resposta certa, o programa deve receber a opção do usuário e informar a letra que o usuário marcou e se a resposta está certa ou errada."
   ]
  },
  {
   "cell_type": "code",
   "execution_count": null,
   "id": "755c8b37",
   "metadata": {
    "ExecuteTime": {
     "end_time": "2023-06-28T01:23:06.527251Z",
     "start_time": "2023-06-28T01:23:05.413019Z"
    }
   },
   "outputs": [],
   "source": []
  },
  {
   "cell_type": "markdown",
   "id": "00edeaec",
   "metadata": {},
   "source": [
    "7)\n",
    "Vamos fazer um programa para verificar quem é o assassino de um crime. Para descobrir o assassino, \n",
    "a polícia faz um pequeno questionário com 5 perguntas \n",
    "onde a resposta só pode ser sim ou não:\n",
    "\n",
    "a. Mora perto da vítima?\n",
    "\n",
    "b. Já trabalhou com a vítima?\n",
    "\n",
    "c. Telefonou para a vítima?\n",
    "\n",
    "d. Esteve no local do crime?\n",
    "\n",
    "e. Devia para a vítima?\n",
    "\n",
    "Cada resposta sim dá um ponto para o suspeito. A polícia considera que os suspeitos com 5 pontos são os assassinos, com 4 a 3 pontos \n",
    "são cúmplices e 2 pontos são apenas suspeitos, necessitando outras investigações. Valores iguais ou abaixo de 1 são liberados.'''"
   ]
  },
  {
   "cell_type": "code",
   "execution_count": null,
   "id": "fa67925d",
   "metadata": {
    "ExecuteTime": {
     "end_time": "2023-06-28T01:29:32.268938Z",
     "start_time": "2023-06-28T01:29:26.252661Z"
    }
   },
   "outputs": [],
   "source": []
  },
  {
   "cell_type": "markdown",
   "id": "d68cb36b",
   "metadata": {
    "ExecuteTime": {
     "end_time": "2022-10-13T02:15:54.837527Z",
     "start_time": "2022-10-13T02:15:54.826530Z"
    }
   },
   "source": [
    "8) Um produto vai sofrer aumento de acordo com a Tabela 1 abaixo. Faça um programa que peça para o usuário digitar o valor do produto de acordo \n",
    "com o preço antigo e escreva uma das mensagens da Tabela 2, de acordo com o preço reajustado:\n",
    "\n",
    "Tabela 1\n",
    "\n",
    "| Preço Antigo         | % de aumento |\n",
    "|----------------------|--------------|\n",
    "| Até 50 reais         | 5%           |\n",
    "| Entre 50 e 100 reais | 10%          |\n",
    "| De 100 a 150 reais   | 13%          |\n",
    "| Acima de 150 reais   | 15%          |\n",
    "\n",
    "Tabela 2\n",
    "\n",
    "| Preço Novo            | Mensagem   |\n",
    "|-----------------------|------------|\n",
    "| Até 80 reais          | Barato     |\n",
    "| Entre 80 e 115 reais  | Razoável   |\n",
    "| Entre 115 e 150 reais | Normal     |\n",
    "| Entre 150 e 170 reais | Caro       |\n",
    "| Acima de 170 reais    | Muito Caro |"
   ]
  },
  {
   "cell_type": "code",
   "execution_count": null,
   "id": "cdba835c",
   "metadata": {
    "ExecuteTime": {
     "end_time": "2023-06-28T01:31:49.747147Z",
     "start_time": "2023-06-28T01:31:47.126121Z"
    }
   },
   "outputs": [],
   "source": []
  },
  {
   "cell_type": "markdown",
   "id": "e1ceb826",
   "metadata": {},
   "source": [
    "9) Desafio 1 - Faça um programa que leia 3 números e informe o maior deles."
   ]
  },
  {
   "cell_type": "code",
   "execution_count": null,
   "id": "62f6041c",
   "metadata": {
    "ExecuteTime": {
     "end_time": "2023-06-28T01:05:50.121938Z",
     "start_time": "2023-06-28T01:05:48.033080Z"
    }
   },
   "outputs": [],
   "source": []
  },
  {
   "cell_type": "markdown",
   "id": "c372e30c",
   "metadata": {},
   "source": [
    "10. Faça um Programa que pergunte em que turno você estuda. Peça para digitar M-matutino ou V-Vespertino ou N- Noturno. Imprima a mensagem \"Bom Dia!\", \"Boa Tarde!\" ou \"Boa Noite!\" ou \"Valor Inválido!\", conforme o caso."
   ]
  },
  {
   "cell_type": "code",
   "execution_count": null,
   "id": "c69f9538",
   "metadata": {},
   "outputs": [],
   "source": []
  },
  {
   "cell_type": "markdown",
   "id": "abe7ef83",
   "metadata": {},
   "source": [
    "11. Crie um programa que receba um número e imprima \"fizz\" se o número for multiplo de 3, \"buzz\" se for multiplo de 5 e \"fizzbuzz\" se for multiplo de 3 e 5"
   ]
  },
  {
   "cell_type": "code",
   "execution_count": null,
   "id": "b41be0e1",
   "metadata": {},
   "outputs": [],
   "source": []
  },
  {
   "cell_type": "markdown",
   "id": "a8535bbc",
   "metadata": {},
   "source": [
    "12. Faça um Programa que leia um número e exiba o dia correspondente da semana. (1-Domingo, 2- Segunda, etc.), se digitar outro valor deve aparecer valor inválido."
   ]
  },
  {
   "cell_type": "code",
   "execution_count": null,
   "id": "c16333dc",
   "metadata": {},
   "outputs": [],
   "source": []
  },
  {
   "cell_type": "markdown",
   "id": "fc560bbc",
   "metadata": {},
   "source": [
    "13. Faça um programa que pergunte o preço de três produtos e informe qual produto você deve comprar, sabendo que a decisão é sempre pelo mais barato."
   ]
  },
  {
   "cell_type": "code",
   "execution_count": null,
   "id": "7c2d05ae",
   "metadata": {},
   "outputs": [],
   "source": []
  },
  {
   "cell_type": "markdown",
   "id": "9989468c",
   "metadata": {},
   "source": []
  }
 ],
 "metadata": {
  "kernelspec": {
   "display_name": "Python 3 (ipykernel)",
   "language": "python",
   "name": "python3"
  },
  "language_info": {
   "codemirror_mode": {
    "name": "ipython",
    "version": 3
   },
   "file_extension": ".py",
   "mimetype": "text/x-python",
   "name": "python",
   "nbconvert_exporter": "python",
   "pygments_lexer": "ipython3",
   "version": "3.10.2"
  },
  "latex_envs": {
   "LaTeX_envs_menu_present": true,
   "autoclose": false,
   "autocomplete": true,
   "bibliofile": "biblio.bib",
   "cite_by": "apalike",
   "current_citInitial": 1,
   "eqLabelWithNumbers": true,
   "eqNumInitial": 1,
   "hotkeys": {
    "equation": "Ctrl-E",
    "itemize": "Ctrl-I"
   },
   "labels_anchors": false,
   "latex_user_defs": false,
   "report_style_numbering": false,
   "user_envs_cfg": false
  },
  "toc": {
   "base_numbering": 1,
   "nav_menu": {},
   "number_sections": true,
   "sideBar": true,
   "skip_h1_title": false,
   "title_cell": "Table of Contents",
   "title_sidebar": "Contents",
   "toc_cell": false,
   "toc_position": {},
   "toc_section_display": true,
   "toc_window_display": false
  },
  "varInspector": {
   "cols": {
    "lenName": 16,
    "lenType": 16,
    "lenVar": 40
   },
   "kernels_config": {
    "python": {
     "delete_cmd_postfix": "",
     "delete_cmd_prefix": "del ",
     "library": "var_list.py",
     "varRefreshCmd": "print(var_dic_list())"
    },
    "r": {
     "delete_cmd_postfix": ") ",
     "delete_cmd_prefix": "rm(",
     "library": "var_list.r",
     "varRefreshCmd": "cat(var_dic_list()) "
    }
   },
   "types_to_exclude": [
    "module",
    "function",
    "builtin_function_or_method",
    "instance",
    "_Feature"
   ],
   "window_display": false
  },
  "vscode": {
   "interpreter": {
    "hash": "5c66de18c091297d67c9a295278ca9503b5163a383fa85591c3cdb6daec33020"
   }
  }
 },
 "nbformat": 4,
 "nbformat_minor": 5
}
